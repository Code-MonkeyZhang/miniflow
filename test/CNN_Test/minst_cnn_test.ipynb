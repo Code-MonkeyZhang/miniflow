{
 "cells": [
  {
   "cell_type": "code",
   "execution_count": 4,
   "id": "a9394da6e91f69a1",
   "metadata": {
    "jupyter": {
     "is_executing": true
    }
   },
   "outputs": [
    {
     "name": "stdout",
     "output_type": "stream",
     "text": [
      "Current Working Directory: /home/yufeng/Workspace/miniflow\n"
     ]
    }
   ],
   "source": [
    "import numpy as np\n",
    "from miniflow import Model, Dense, FlattenLayer, Conv2D, MaxPooling2D\n",
    "from miniflow.util import label2onehot\n",
    "import time\n",
    "import os\n",
    "# 上升两级到项目根目录\n",
    "project_root = os.path.join(os.getcwd(), '..', '..')\n",
    "os.chdir(project_root)\n",
    "print(f\"Current Working Directory: {os.getcwd()}\")"
   ]
  },
  {
   "cell_type": "code",
   "execution_count": 5,
   "id": "a6798b76b13fa652",
   "metadata": {},
   "outputs": [],
   "source": [
    "x_train_path = './data/mnist_data/mnist_x_train.npy'\n",
    "y_train_path = './data/mnist_data/mnist_y_train.npy'\n",
    "x_test_path = './data/mnist_data/mnist_x_test.npy'\n",
    "y_test_path = './data/mnist_data/mnist_y_test.npy'"
   ]
  },
  {
   "cell_type": "code",
   "execution_count": 6,
   "id": "66abf39f0c40b2c6",
   "metadata": {},
   "outputs": [],
   "source": [
    "# Load training set\n",
    "x_train = np.load(x_train_path)\n",
    "y_train = np.load(y_train_path)\n",
    "\n",
    "# Load test set\n",
    "x_test = np.load(x_test_path)\n",
    "y_test = np.load(y_test_path)\n",
    "\n",
    "# Normalize and reshape\n",
    "x_train = (x_train / 255.0).reshape(-1, 28, 28, 1)\n",
    "x_test = (x_test / 255.0).reshape(-1, 28, 28, 1)\n",
    "\n",
    "# Convert y_train to OneHot\n",
    "# 希望可以自己判断 one-hot 类别的数量\n",
    "y_train = label2onehot(y_train, units=10)"
   ]
  },
  {
   "cell_type": "code",
   "execution_count": 7,
   "id": "5da4c7e8",
   "metadata": {},
   "outputs": [],
   "source": [
    "model = Model([\n",
    "    Conv2D(32, (3, 3), activation='relu', input_shape=(28, 28, 1)),\n",
    "    MaxPooling2D((2, 2), input_shape=(26, 26, 32)),\n",
    "    Conv2D(64, (3, 3), activation='relu', input_shape=(13, 13, 32)),\n",
    "    MaxPooling2D((2, 2), input_shape=(11, 11, 64)),\n",
    "    FlattenLayer(input_shape=(5, 5, 64)),\n",
    "    Dense(64, activation='relu', input_shape=1600),\n",
    "    Dense(10, activation='softmax', input_shape=64)\n",
    "], name=\"my_model\", cost=\"softmax\")"
   ]
  },
  {
   "cell_type": "code",
   "execution_count": 8,
   "id": "c972ee54",
   "metadata": {},
   "outputs": [],
   "source": [
    "\n",
    "# load weights from file\n",
    "# model.layers_array[0].set_weights(\n",
    "#     np.load(\"./weights/simple_CNN_weights/conv2d_3x3_32_weights.npy\"))\n",
    "# model.layers_array[0].set_bias(\n",
    "#     np.load(\"./weights/simple_CNN_weights/conv2d_3x3_32_biases.npy\"))\n",
    "\n",
    "# model.layers_array[2].set_weights(\n",
    "#     np.load(\"./weights/simple_CNN_weights/conv2d_3x3_64_weights.npy\"))\n",
    "# model.layers_array[2].set_bias(\n",
    "#     np.load(\"./weights/simple_CNN_weights/conv2d_3x3_64_biases.npy\"))\n",
    "\n",
    "# model.layers_array[5].set_weights(np.load(\"./weights/simple_CNN_weights/dense_64_weights.npy\").T,\n",
    "#                                   np.load(\"./weights/simple_CNN_weights/dense_64_biases.npy\"))\n",
    "# model.layers_array[6].set_weights(np.load(\"./weights/simple_CNN_weights/dense_10_weights.npy\").T,\n",
    "#                                   np.load(\"./weights/simple_CNN_weights/dense_10_biases.npy\"))\n",
    "\n",
    "model.set_rand_weight(method='He')"
   ]
  },
  {
   "cell_type": "code",
   "execution_count": 19,
   "id": "fa0b11d2",
   "metadata": {},
   "outputs": [
    {
     "name": "stdout",
     "output_type": "stream",
     "text": [
      "Model Summary\n",
      "========================================================================================================================\n",
      "Layer (type)                   Weight Shape         Output Shape         Param #              Activation\n",
      "========================================================================================================================\n",
      "Conv2D (Conv2D)                (3, 3, 1, 32)        Unknown              320                  relu      \n",
      "MaxPooling2D (MaxPooling2D)    No weights           (13, 13, 32)         0                    None      \n",
      "Conv2D (Conv2D)                (3, 3, 32, 64)       Unknown              18496                relu      \n",
      "MaxPooling2D (MaxPooling2D)    No weights           (5, 5, 64)           0                    None      \n",
      "Unnamed Layer (FlattenLayer)   No weights           1600                 0                    None      \n",
      "Dense (Dense)                  (64, 1600)           Unknown              102464               relu      \n",
      "Dense (Dense)                  (10, 64)             Unknown              650                  softmax   \n",
      "========================================================================================================================\n",
      "Total params: 121930\n",
      "========================================================================================================================\n"
     ]
    }
   ],
   "source": [
    "\n",
    "model.compile(optimizer='adam',\n",
    "              alpha_decay=True,\n",
    "              show_summary=False,\n",
    "              plot_loss=False,\n",
    "              loss_method=\"categorical_crossentropy\")\n",
    "\n",
    "model.summary()"
   ]
  },
  {
   "cell_type": "code",
   "execution_count": null,
   "id": "71b82216",
   "metadata": {},
   "outputs": [],
   "source": [
    "train_example_num = 1000\n",
    "model.fit(x_train[:train_example_num], y_train[:train_example_num],\n",
    "          learning_rate=5e-5,\n",
    "          epochs=10,\n",
    "          batch_size=8,\n",
    "          b1=0.9)"
   ]
  },
  {
   "cell_type": "code",
   "execution_count": 9,
   "id": "86f86de0",
   "metadata": {},
   "outputs": [
    {
     "name": "stdout",
     "output_type": "stream",
     "text": [
      "Prediction time: 0.35 seconds\n",
      "Test Accuracy: 100.00%\n"
     ]
    }
   ],
   "source": [
    "start_time = time.time()\n",
    "predictions = model.predict(x_test[:10])\n",
    "end_time = time.time()\n",
    "\n",
    "print(f\"Prediction time: {end_time - start_time:.2f} seconds\")\n",
    "predictions_labels = np.argmax(predictions, axis=1)\n",
    "# 计算准确率\n",
    "accuracy = np.mean(predictions_labels == y_test[:10])\n",
    "print(f\"Test Accuracy: {accuracy * 100:.2f}%\")"
   ]
  },
  {
   "cell_type": "code",
   "execution_count": 8,
   "id": "c164fbc6",
   "metadata": {},
   "outputs": [
    {
     "data": {
      "image/png": "[encoded data removed]",
      "text/plain": [
       "<Figure size 1000x500 with 10 Axes>"
      ]
     },
     "metadata": {},
     "output_type": "display_data"
    }
   ],
   "source": [
    "import matplotlib.pyplot as plt\n",
    "\n",
    "\n",
    "# 绘制前十个样本的图像及其预测和实际标签\n",
    "plt.figure(figsize=(10, 5))\n",
    "for i in range(10):\n",
    "    plt.subplot(2, 5, i+1)\n",
    "    plt.imshow(x_test[i].reshape(28, 28), cmap='gray')\n",
    "    plt.title(f\"Pred: {predictions_labels[i]}\\nActual: {y_test[i]}\")\n",
    "    plt.axis('off')\n",
    "\n",
    "plt.tight_layout()\n",
    "plt.show()"
   ]
  },
  {
   "cell_type": "code",
   "execution_count": null,
   "id": "666fadb0",
   "metadata": {},
   "outputs": [],
   "source": []
  }
 ],
 "metadata": {
  "kernelspec": {
   "display_name": "Python 3",
   "language": "python",
   "name": "python3"
  },
  "language_info": {
   "codemirror_mode": {
    "name": "ipython",
    "version": 3
   },
   "file_extension": ".py",
   "mimetype": "text/x-python",
   "name": "python",
   "nbconvert_exporter": "python",
   "pygments_lexer": "ipython3",
   "version": "3.9.19"
  }
 },
 "nbformat": 4,
 "nbformat_minor": 5
}
